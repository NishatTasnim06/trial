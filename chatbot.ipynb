{
  "nbformat": 4,
  "nbformat_minor": 0,
  "metadata": {
    "colab": {
      "provenance": [],
      "authorship_tag": "ABX9TyMs0vGdYGSpAdn5yRYoYl5C",
      "include_colab_link": true
    },
    "kernelspec": {
      "name": "python3",
      "display_name": "Python 3"
    },
    "language_info": {
      "name": "python"
    }
  },
  "cells": [
    {
      "cell_type": "markdown",
      "metadata": {
        "id": "view-in-github",
        "colab_type": "text"
      },
      "source": [
        "<a href=\"https://colab.research.google.com/github/NishatTasnim06/trial/blob/main/chatbot.ipynb\" target=\"_parent\"><img src=\"https://colab.research.google.com/assets/colab-badge.svg\" alt=\"Open In Colab\"/></a>"
      ]
    },
    {
      "cell_type": "code",
      "source": [
        "# Install necessary libraries\n",
        "!pip install nltk\n",
        "\n",
        "# Import required modules\n",
        "import nltk\n",
        "from nltk.chat.util import Chat, reflections\n",
        "\n",
        "# Define patterns and responses\n",
        "pairs = [\n",
        "    [r\"hi|hello|hey\", [\"Hello!\", \"Hey there!\", \"Hi! How can I help you?\"]],\n",
        "    [r\"how are you ?\", [\"I'm a chatbot, but I'm doing great!\", \"I'm good, what about you?\"]],\n",
        "    [r\"what is your name ?\", [\"I'm a simple chatbot!\", \"You can call me ChatBot.\"]],\n",
        "    [r\"who created you ?\", [\"I was created by a Python enthusiast!\", \"A programmer built me.\"]],\n",
        "    [r\"bye|goodbye\", [\"Goodbye! Have a nice day!\", \"Bye! Take care.\"]],\n",
        "    [r\"(.*)\", [\"I'm not sure I understand, but I'm here to help!\", \"Can you please rephrase that?\"]]\n",
        "]\n",
        "\n",
        "# Create a chatbot\n",
        "chatbot = Chat(pairs, reflections)\n",
        "\n",
        "# Start the conversation\n",
        "print(\"Hello! I'm your chatbot. Type 'bye' to exit.\")\n",
        "\n",
        "while True:\n",
        "    user_input = input(\"You: \")\n",
        "    if user_input.lower() == \"bye\":\n",
        "        print(\"Chatbot: Goodbye! Have a great day!\")\n",
        "        break\n",
        "    response = chatbot.respond(user_input)\n",
        "    print(f\"Chatbot: {response}\")\n"
      ],
      "metadata": {
        "id": "Fmgaf9TI_NsN",
        "colab": {
          "base_uri": "https://localhost:8080/"
        },
        "outputId": "3e88c2f8-2fee-4845-c1d2-2ce0a0f24468"
      },
      "execution_count": null,
      "outputs": [
        {
          "metadata": {
            "tags": null
          },
          "name": "stdout",
          "output_type": "stream",
          "text": [
            "Requirement already satisfied: nltk in /usr/local/lib/python3.11/dist-packages (3.9.1)\n",
            "Requirement already satisfied: click in /usr/local/lib/python3.11/dist-packages (from nltk) (8.1.8)\n",
            "Requirement already satisfied: joblib in /usr/local/lib/python3.11/dist-packages (from nltk) (1.4.2)\n",
            "Requirement already satisfied: regex>=2021.8.3 in /usr/local/lib/python3.11/dist-packages (from nltk) (2024.11.6)\n",
            "Requirement already satisfied: tqdm in /usr/local/lib/python3.11/dist-packages (from nltk) (4.67.1)\n",
            "Hello! I'm your chatbot. Type 'bye' to exit.\n",
            "Chatbot: Hi! How can I help you?\n",
            "Chatbot: I'm a chatbot, but I'm doing great!\n",
            "Chatbot: I'm not sure I understand, but I'm here to help!\n",
            "Chatbot: Can you please rephrase that?\n",
            "Chatbot: I'm not sure I understand, but I'm here to help!\n",
            "Chatbot: I'm a simple chatbot!\n",
            "Chatbot: Can you please rephrase that?\n"
          ]
        }
      ]
    }
  ]
}