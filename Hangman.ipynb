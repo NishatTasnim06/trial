{
  "nbformat": 4,
  "nbformat_minor": 0,
  "metadata": {
    "colab": {
      "provenance": [],
      "authorship_tag": "ABX9TyOWpLuUbuaRali9rJZRG4t9",
      "include_colab_link": true
    },
    "kernelspec": {
      "name": "python3",
      "display_name": "Python 3"
    },
    "language_info": {
      "name": "python"
    },
    "widgets": {
      "application/vnd.jupyter.widget-state+json": {
        "916a7ecc41ef45e9a33d2ac34d50c458": {
          "model_module": "@jupyter-widgets/controls",
          "model_name": "TextModel",
          "model_module_version": "1.5.0",
          "state": {
            "_dom_classes": [],
            "_model_module": "@jupyter-widgets/controls",
            "_model_module_version": "1.5.0",
            "_model_name": "TextModel",
            "_view_count": null,
            "_view_module": "@jupyter-widgets/controls",
            "_view_module_version": "1.5.0",
            "_view_name": "TextView",
            "continuous_update": true,
            "description": "Guess:",
            "description_tooltip": null,
            "disabled": true,
            "layout": "IPY_MODEL_3e2c1c69e9ad437fac104300a49f239a",
            "placeholder": "Enter a letter",
            "style": "IPY_MODEL_bd1810a5fe9f42fc9a487a75c23ebc47",
            "value": "o"
          }
        },
        "3e2c1c69e9ad437fac104300a49f239a": {
          "model_module": "@jupyter-widgets/base",
          "model_name": "LayoutModel",
          "model_module_version": "1.2.0",
          "state": {
            "_model_module": "@jupyter-widgets/base",
            "_model_module_version": "1.2.0",
            "_model_name": "LayoutModel",
            "_view_count": null,
            "_view_module": "@jupyter-widgets/base",
            "_view_module_version": "1.2.0",
            "_view_name": "LayoutView",
            "align_content": null,
            "align_items": null,
            "align_self": null,
            "border": null,
            "bottom": null,
            "display": null,
            "flex": null,
            "flex_flow": null,
            "grid_area": null,
            "grid_auto_columns": null,
            "grid_auto_flow": null,
            "grid_auto_rows": null,
            "grid_column": null,
            "grid_gap": null,
            "grid_row": null,
            "grid_template_areas": null,
            "grid_template_columns": null,
            "grid_template_rows": null,
            "height": null,
            "justify_content": null,
            "justify_items": null,
            "left": null,
            "margin": null,
            "max_height": null,
            "max_width": null,
            "min_height": null,
            "min_width": null,
            "object_fit": null,
            "object_position": null,
            "order": null,
            "overflow": null,
            "overflow_x": null,
            "overflow_y": null,
            "padding": null,
            "right": null,
            "top": null,
            "visibility": null,
            "width": null
          }
        },
        "bd1810a5fe9f42fc9a487a75c23ebc47": {
          "model_module": "@jupyter-widgets/controls",
          "model_name": "DescriptionStyleModel",
          "model_module_version": "1.5.0",
          "state": {
            "_model_module": "@jupyter-widgets/controls",
            "_model_module_version": "1.5.0",
            "_model_name": "DescriptionStyleModel",
            "_view_count": null,
            "_view_module": "@jupyter-widgets/base",
            "_view_module_version": "1.2.0",
            "_view_name": "StyleView",
            "description_width": ""
          }
        },
        "a2d7be308e8545e4b01def18d8e744d6": {
          "model_module": "@jupyter-widgets/controls",
          "model_name": "ButtonModel",
          "model_module_version": "1.5.0",
          "state": {
            "_dom_classes": [],
            "_model_module": "@jupyter-widgets/controls",
            "_model_module_version": "1.5.0",
            "_model_name": "ButtonModel",
            "_view_count": null,
            "_view_module": "@jupyter-widgets/controls",
            "_view_module_version": "1.5.0",
            "_view_name": "ButtonView",
            "button_style": "",
            "description": "Submit",
            "disabled": true,
            "icon": "",
            "layout": "IPY_MODEL_4fcd74e5e29c48019b5cad1aba413894",
            "style": "IPY_MODEL_c518d7d17e0647029ab4ada4996b53a1",
            "tooltip": ""
          }
        },
        "4fcd74e5e29c48019b5cad1aba413894": {
          "model_module": "@jupyter-widgets/base",
          "model_name": "LayoutModel",
          "model_module_version": "1.2.0",
          "state": {
            "_model_module": "@jupyter-widgets/base",
            "_model_module_version": "1.2.0",
            "_model_name": "LayoutModel",
            "_view_count": null,
            "_view_module": "@jupyter-widgets/base",
            "_view_module_version": "1.2.0",
            "_view_name": "LayoutView",
            "align_content": null,
            "align_items": null,
            "align_self": null,
            "border": null,
            "bottom": null,
            "display": null,
            "flex": null,
            "flex_flow": null,
            "grid_area": null,
            "grid_auto_columns": null,
            "grid_auto_flow": null,
            "grid_auto_rows": null,
            "grid_column": null,
            "grid_gap": null,
            "grid_row": null,
            "grid_template_areas": null,
            "grid_template_columns": null,
            "grid_template_rows": null,
            "height": null,
            "justify_content": null,
            "justify_items": null,
            "left": null,
            "margin": null,
            "max_height": null,
            "max_width": null,
            "min_height": null,
            "min_width": null,
            "object_fit": null,
            "object_position": null,
            "order": null,
            "overflow": null,
            "overflow_x": null,
            "overflow_y": null,
            "padding": null,
            "right": null,
            "top": null,
            "visibility": null,
            "width": null
          }
        },
        "c518d7d17e0647029ab4ada4996b53a1": {
          "model_module": "@jupyter-widgets/controls",
          "model_name": "ButtonStyleModel",
          "model_module_version": "1.5.0",
          "state": {
            "_model_module": "@jupyter-widgets/controls",
            "_model_module_version": "1.5.0",
            "_model_name": "ButtonStyleModel",
            "_view_count": null,
            "_view_module": "@jupyter-widgets/base",
            "_view_module_version": "1.2.0",
            "_view_name": "StyleView",
            "button_color": null,
            "font_weight": ""
          }
        },
        "5cc929295b9f47ebbbad08b8b1dbd823": {
          "model_module": "@jupyter-widgets/output",
          "model_name": "OutputModel",
          "model_module_version": "1.0.0",
          "state": {
            "_dom_classes": [],
            "_model_module": "@jupyter-widgets/output",
            "_model_module_version": "1.0.0",
            "_model_name": "OutputModel",
            "_view_count": null,
            "_view_module": "@jupyter-widgets/output",
            "_view_module_version": "1.0.0",
            "_view_name": "OutputView",
            "layout": "IPY_MODEL_bff68e83282a4e4c9bff4dbce4477082",
            "msg_id": "",
            "outputs": [
              {
                "output_type": "stream",
                "name": "stdout",
                "text": [
                  "Good guess! _ _ _ _ _ n\n"
                ]
              },
              {
                "output_type": "stream",
                "name": "stdout",
                "text": [
                  "Good guess! p _ _ _ _ n\n"
                ]
              },
              {
                "output_type": "stream",
                "name": "stdout",
                "text": [
                  "Good guess! p _ t _ _ n\n"
                ]
              },
              {
                "output_type": "stream",
                "name": "stdout",
                "text": [
                  "Good guess! p y t _ _ n\n"
                ]
              },
              {
                "output_type": "stream",
                "name": "stdout",
                "text": [
                  "Good guess! p y t h _ n\n"
                ]
              },
              {
                "output_type": "stream",
                "name": "stdout",
                "text": [
                  "Good guess! p y t h o n\n",
                  "Congratulations! You won!\n"
                ]
              }
            ]
          }
        },
        "bff68e83282a4e4c9bff4dbce4477082": {
          "model_module": "@jupyter-widgets/base",
          "model_name": "LayoutModel",
          "model_module_version": "1.2.0",
          "state": {
            "_model_module": "@jupyter-widgets/base",
            "_model_module_version": "1.2.0",
            "_model_name": "LayoutModel",
            "_view_count": null,
            "_view_module": "@jupyter-widgets/base",
            "_view_module_version": "1.2.0",
            "_view_name": "LayoutView",
            "align_content": null,
            "align_items": null,
            "align_self": null,
            "border": null,
            "bottom": null,
            "display": null,
            "flex": null,
            "flex_flow": null,
            "grid_area": null,
            "grid_auto_columns": null,
            "grid_auto_flow": null,
            "grid_auto_rows": null,
            "grid_column": null,
            "grid_gap": null,
            "grid_row": null,
            "grid_template_areas": null,
            "grid_template_columns": null,
            "grid_template_rows": null,
            "height": null,
            "justify_content": null,
            "justify_items": null,
            "left": null,
            "margin": null,
            "max_height": null,
            "max_width": null,
            "min_height": null,
            "min_width": null,
            "object_fit": null,
            "object_position": null,
            "order": null,
            "overflow": null,
            "overflow_x": null,
            "overflow_y": null,
            "padding": null,
            "right": null,
            "top": null,
            "visibility": null,
            "width": null
          }
        }
      }
    }
  },
  "cells": [
    {
      "cell_type": "markdown",
      "metadata": {
        "id": "view-in-github",
        "colab_type": "text"
      },
      "source": [
        "<a href=\"https://colab.research.google.com/github/NishatTasnim06/trial/blob/main/Hangman.ipynb\" target=\"_parent\"><img src=\"https://colab.research.google.com/assets/colab-badge.svg\" alt=\"Open In Colab\"/></a>"
      ]
    },
    {
      "cell_type": "code",
      "execution_count": 1,
      "metadata": {
        "id": "9WsTSkTDWiie"
      },
      "outputs": [],
      "source": [
        "import random\n",
        "\n",
        "# List of words for the game\n",
        "words = [\"python\", \"hangman\", \"colab\", \"programming\", \"developer\", \"google\"]\n",
        "\n",
        "# Select a random word\n",
        "word = random.choice(words).lower()\n",
        "guessed_word = [\"_\"] * len(word)\n",
        "attempts = 6\n",
        "guessed_letters = []\n",
        "\n",
        "def display_word():\n",
        "    return \" \".join(guessed_word)\n",
        "\n",
        "def check_guess(letter):\n",
        "    global attempts\n",
        "    if letter in guessed_letters:\n",
        "        return \"You already guessed that letter!\"\n",
        "    guessed_letters.append(letter)\n",
        "    if letter in word:\n",
        "        for i, char in enumerate(word):\n",
        "            if char == letter:\n",
        "                guessed_word[i] = letter\n",
        "        return f\"Good guess! {display_word()}\"\n",
        "    else:\n",
        "        attempts -= 1\n",
        "        return f\"Wrong guess! {display_word()} | Attempts left: {attempts}\"\n",
        "\n",
        "def is_game_over():\n",
        "    return \"_\" not in guessed_word or attempts == 0\n",
        "\n",
        "def get_result():\n",
        "    if \"_\" not in guessed_word:\n",
        "        return \"Congratulations! You won!\"\n",
        "    else:\n",
        "        return f\"Game over! The word was: {word}\""
      ]
    },
    {
      "cell_type": "code",
      "source": [
        "from IPython.display import HTML, display\n",
        "import ipywidgets as widgets\n",
        "\n",
        "# Input box for guessing a letter\n",
        "letter_input = widgets.Text(placeholder=\"Enter a letter\", description=\"Guess:\")\n",
        "output = widgets.Output()\n",
        "submit_button = widgets.Button(description=\"Submit\")\n",
        "\n",
        "# Display the initial word\n",
        "display(HTML(f\"<h3>Welcome to Hangman!</h3><p>Word: {display_word()}</p>\"))\n",
        "display(letter_input, submit_button, output)\n",
        "\n",
        "def on_submit_button_click(b):\n",
        "    global attempts\n",
        "    with output:\n",
        "        letter = letter_input.value.strip().lower()\n",
        "        if len(letter) != 1 or not letter.isalpha():\n",
        "            print(\"Please enter a single valid letter.\")\n",
        "        else:\n",
        "            result = check_guess(letter)\n",
        "            print(result)\n",
        "            if is_game_over():\n",
        "                print(get_result())\n",
        "                submit_button.disabled = True\n",
        "                letter_input.disabled = True\n",
        "\n",
        "submit_button.on_click(on_submit_button_click)"
      ],
      "metadata": {
        "colab": {
          "base_uri": "https://localhost:8080/",
          "height": 266,
          "referenced_widgets": [
            "916a7ecc41ef45e9a33d2ac34d50c458",
            "3e2c1c69e9ad437fac104300a49f239a",
            "bd1810a5fe9f42fc9a487a75c23ebc47",
            "a2d7be308e8545e4b01def18d8e744d6",
            "4fcd74e5e29c48019b5cad1aba413894",
            "c518d7d17e0647029ab4ada4996b53a1",
            "5cc929295b9f47ebbbad08b8b1dbd823",
            "bff68e83282a4e4c9bff4dbce4477082"
          ]
        },
        "id": "h_qS2BmJW1px",
        "outputId": "19b98083-8744-4d63-c065-4c038e4f1020"
      },
      "execution_count": 2,
      "outputs": [
        {
          "output_type": "display_data",
          "data": {
            "text/plain": [
              "<IPython.core.display.HTML object>"
            ],
            "text/html": [
              "<h3>Welcome to Hangman!</h3><p>Word: _ _ _ _ _ _</p>"
            ]
          },
          "metadata": {}
        },
        {
          "output_type": "display_data",
          "data": {
            "text/plain": [
              "Text(value='', description='Guess:', placeholder='Enter a letter')"
            ],
            "application/vnd.jupyter.widget-view+json": {
              "version_major": 2,
              "version_minor": 0,
              "model_id": "916a7ecc41ef45e9a33d2ac34d50c458"
            }
          },
          "metadata": {}
        },
        {
          "output_type": "display_data",
          "data": {
            "text/plain": [
              "Button(description='Submit', style=ButtonStyle())"
            ],
            "application/vnd.jupyter.widget-view+json": {
              "version_major": 2,
              "version_minor": 0,
              "model_id": "a2d7be308e8545e4b01def18d8e744d6"
            }
          },
          "metadata": {}
        },
        {
          "output_type": "display_data",
          "data": {
            "text/plain": [
              "Output()"
            ],
            "application/vnd.jupyter.widget-view+json": {
              "version_major": 2,
              "version_minor": 0,
              "model_id": "5cc929295b9f47ebbbad08b8b1dbd823"
            }
          },
          "metadata": {}
        }
      ]
    }
  ]
}