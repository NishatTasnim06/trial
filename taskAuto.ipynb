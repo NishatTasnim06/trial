{
  "nbformat": 4,
  "nbformat_minor": 0,
  "metadata": {
    "colab": {
      "provenance": [],
      "authorship_tag": "ABX9TyNtIeSF3KU8t+pGCTaCGKGA",
      "include_colab_link": true
    },
    "kernelspec": {
      "name": "python3",
      "display_name": "Python 3"
    },
    "language_info": {
      "name": "python"
    }
  },
  "cells": [
    {
      "cell_type": "markdown",
      "metadata": {
        "id": "view-in-github",
        "colab_type": "text"
      },
      "source": [
        "<a href=\"https://colab.research.google.com/github/NishatTasnim06/trial/blob/main/taskAuto.ipynb\" target=\"_parent\"><img src=\"https://colab.research.google.com/assets/colab-badge.svg\" alt=\"Open In Colab\"/></a>"
      ]
    },
    {
      "cell_type": "code",
      "execution_count": null,
      "metadata": {
        "colab": {
          "base_uri": "https://localhost:8080/"
        },
        "id": "I_PR-8SaPIWW",
        "outputId": "41cb61fa-cdeb-4483-8b81-b36872bba9b8"
      },
      "outputs": [
        {
          "output_type": "stream",
          "name": "stdout",
          "text": [
            "Mounted at /content/drive\n",
            "File organization completed!\n"
          ]
        }
      ],
      "source": [
        "import os\n",
        "import shutil\n",
        "from google.colab import drive\n",
        "\n",
        "# Mount Google Drive\n",
        "drive.mount('/content/drive')\n",
        "\n",
        "# Define the folder to organize (Change this to your target folder inside Drive)\n",
        "folder_to_organize = \"/content/drive/MyDrive/Resources- 4th year\"\n",
        "\n",
        "# File categories and their corresponding extensions\n",
        "file_categories = {\n",
        "    \"Images\": [\".jpg\", \".jpeg\", \".png\", \".gif\", \".bmp\", \".svg\"],\n",
        "    \"Documents\": [\".pdf\", \".docx\", \".txt\", \".xlsx\", \".pptx\", \".csv\"],\n",
        "    \"Videos\": [\".mp4\", \".avi\", \".mov\", \".mkv\"],\n",
        "    \"Music\": [\".mp3\", \".wav\", \".aac\", \".flac\"],\n",
        "    \"Archives\": [\".zip\", \".rar\", \".7z\", \".tar\", \".gz\"],\n",
        "    \"Executables\": [\".exe\", \".msi\"],\n",
        "    \"Scripts\": [\".py\", \".sh\", \".bat\"],\n",
        "    \"Others\": []  # Files that don’t match any category\n",
        "}\n",
        "\n",
        "# Function to organize files\n",
        "def organize_files():\n",
        "    if not os.path.exists(folder_to_organize):\n",
        "        print(f\"Error: The folder '{folder_to_organize}' does not exist.\")\n",
        "        return\n",
        "\n",
        "    # Scan files in the folder\n",
        "    for file in os.listdir(folder_to_organize):\n",
        "        file_path = os.path.join(folder_to_organize, file)\n",
        "\n",
        "        if os.path.isfile(file_path):  # Ensure it's a file\n",
        "            file_ext = os.path.splitext(file)[-1].lower()\n",
        "\n",
        "            # Find the appropriate category\n",
        "            destination_folder = \"Others\"\n",
        "            for category, extensions in file_categories.items():\n",
        "                if file_ext in extensions:\n",
        "                    destination_folder = category\n",
        "                    break\n",
        "\n",
        "            # Create category folder if not exists\n",
        "            category_path = os.path.join(folder_to_organize, destination_folder)\n",
        "            os.makedirs(category_path, exist_ok=True)\n",
        "\n",
        "            # Move file\n",
        "            shutil.move(file_path, os.path.join(category_path, file))\n",
        "            print(f\"Moved: {file} → {destination_folder}\")\n",
        "\n",
        "    print(\"File organization completed!\")\n",
        "\n",
        "# Run the function\n",
        "organize_files()\n"
      ]
    }
  ]
}